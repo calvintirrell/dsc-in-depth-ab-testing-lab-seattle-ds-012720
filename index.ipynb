{
 "cells": [
  {
   "cell_type": "markdown",
   "metadata": {},
   "source": [
    "# In Depth A/B Testing - Lab\n",
    "\n",
    "## Introduction\n",
    "\n",
    "In this lab, you'll explore a survey from Kaggle regarding budding data scientists. With this, you'll form some initial hypotheses, and test them using the tools you've acquired to date. \n",
    "\n",
    "## Objectives\n",
    "\n",
    "You will be able to:\n",
    "* Conduct t-tests and an ANOVA on a real-world dataset and interpret the results"
   ]
  },
  {
   "cell_type": "markdown",
   "metadata": {},
   "source": [
    "## Load the Dataset and Perform a Brief Exploration\n",
    "\n",
    "The data is stored in a file called **multipleChoiceResponses_cleaned.csv**. Feel free to check out the original dataset referenced at the bottom of this lab, although this cleaned version will undoubtedly be easier to work with. Additionally, meta-data regarding the questions is stored in a file name **schema.csv**. Load in the data itself as a Pandas DataFrame, and take a moment to briefly get acquainted with it.\n",
    "\n",
    "> Note: If you can't get the file to load properly, try changing the encoding format as in `encoding='latin1'`"
   ]
  },
  {
   "cell_type": "code",
   "execution_count": 5,
   "metadata": {},
   "outputs": [
    {
     "name": "stdout",
     "output_type": "stream",
     "text": [
      "0    Bachelor's degree\n",
      "1      Master's degree\n",
      "2      Master's degree\n",
      "3      Master's degree\n",
      "4      Doctoral degree\n",
      "Name: FormalEducation, dtype: object\n",
      "0         NaN\n",
      "1         NaN\n",
      "2         NaN\n",
      "3    250000.0\n",
      "4         NaN\n",
      "Name: AdjustedCompensation, dtype: float64\n"
     ]
    }
   ],
   "source": [
    "import pandas as pd\n",
    "import numpy as np\n",
    "import seaborn as sns\n",
    "import matplotlib.pyplot as plt\n",
    "\n",
    "#Your code here\n",
    "df = pd.read_csv('multipleChoiceResponses_cleaned.csv')\n",
    "print(df['FormalEducation'].head())\n",
    "print(df['AdjustedCompensation'].head())"
   ]
  },
  {
   "cell_type": "markdown",
   "metadata": {},
   "source": [
    "## Wages and Education\n",
    "\n",
    "You've been asked to determine whether education is impactful to salary. Develop a hypothesis test to compare the salaries of those with Master's degrees to those with Bachelor's degrees. Are the two statistically different according to your results?\n",
    "\n",
    "> Note: The relevant features are stored in the 'FormalEducation' and 'AdjustedCompensation' features.\n",
    "\n",
    "You may import the functions stored in the `flatiron_stats.py` file to help perform your hypothesis tests. It contains the stats functions that you previously coded: `welch_t(a,b)`, `welch_df(a, b)`, and `p_value(a, b, two_sided=False)`. \n",
    "\n",
    "Note that `scipy.stats.ttest_ind(a, b, equal_var=False)` performs a two-sided Welch's t-test and that p-values derived from two-sided tests are two times the p-values derived from one-sided tests. See the [documentation](https://docs.scipy.org/doc/scipy/reference/generated/scipy.stats.ttest_ind.html) for more information.    "
   ]
  },
  {
   "cell_type": "code",
   "execution_count": 47,
   "metadata": {},
   "outputs": [
    {
     "name": "stdout",
     "output_type": "stream",
     "text": [
      "       AdjustedCompensation\n",
      "count          3.097000e+03\n",
      "mean           6.761977e+04\n",
      "std            2.132118e+05\n",
      "min            0.000000e+00\n",
      "25%            1.793739e+04\n",
      "50%            4.820250e+04\n",
      "75%            8.950000e+04\n",
      "max            9.999999e+06\n"
     ]
    }
   ],
   "source": [
    "from flatiron_stats import welch_t, welch_df, p_value_welch_ttest\n",
    "\n",
    "#Your code here\n",
    "# h_o: there is no compensation difference between people who hold a Bachelor's degree compared to those who have a Master's degree.\n",
    "# h_a: there is a compensation difference between people who hold a Bachelor's degree compared to those who have a Master's degree.\n",
    "\n",
    "df_2_cols = pd.DataFrame(df['FormalEducation'])\n",
    "df_2_cols['AdjustedCompensation'] = pd.DataFrame(df['AdjustedCompensation'])\n",
    "df_2_cols.dropna()\n",
    "df_2_cols = df_2_cols[(df_2_cols['FormalEducation'] == 'Bachelor\\'s degree') | (df_2_cols['FormalEducation'] == 'Master\\'s degree')]\n",
    "print(df_2_cols.describe())"
   ]
  },
  {
   "cell_type": "code",
   "execution_count": 48,
   "metadata": {},
   "outputs": [
    {
     "name": "stdout",
     "output_type": "stream",
     "text": [
      "<class 'pandas.core.frame.DataFrame'>\n",
      "Int64Index: 3097 entries, 3 to 26378\n",
      "Data columns (total 2 columns):\n",
      "FormalEducation         3097 non-null object\n",
      "AdjustedCompensation    3097 non-null float64\n",
      "dtypes: float64(1), object(1)\n",
      "memory usage: 72.6+ KB\n"
     ]
    }
   ],
   "source": [
    "df_2_cols.info()"
   ]
  },
  {
   "cell_type": "code",
   "execution_count": 59,
   "metadata": {},
   "outputs": [
    {
     "data": {
      "text/plain": [
       "0.43786693335411514"
      ]
     },
     "execution_count": 59,
     "metadata": {},
     "output_type": "execute_result"
    }
   ],
   "source": [
    "df_b = df_2_cols[df_2_cols['FormalEducation'] == 'Bachelor\\'s degree']\n",
    "df_m = df_2_cols[df_2_cols['FormalEducation'] == 'Master\\'s degree']\n",
    "b_arr = np.array(df_b['AdjustedCompensation'])\n",
    "m_arr = np.array(df_m['AdjustedCompensation'])\n",
    "\n",
    "welch_t(b_arr, m_arr)"
   ]
  },
  {
   "cell_type": "code",
   "execution_count": 60,
   "metadata": {},
   "outputs": [
    {
     "data": {
      "text/plain": [
       "1350.0828973008781"
      ]
     },
     "execution_count": 60,
     "metadata": {},
     "output_type": "execute_result"
    }
   ],
   "source": [
    "welch_df(b_arr, m_arr)"
   ]
  },
  {
   "cell_type": "code",
   "execution_count": 83,
   "metadata": {},
   "outputs": [
    {
     "data": {
      "text/plain": [
       "0.33077639451272445"
      ]
     },
     "execution_count": 83,
     "metadata": {},
     "output_type": "execute_result"
    }
   ],
   "source": [
    "p_value_welch_ttest(b_arr, m_arr, two_sided=False)"
   ]
  },
  {
   "cell_type": "markdown",
   "metadata": {},
   "source": [
    "## Wages and Education II\n",
    "\n",
    "Now perform a similar statistical test comparing the AdjustedCompensation of those with Bachelor's degrees and those with Doctorates. If you haven't already, be sure to explore the distribution of the AdjustedCompensation feature for any anomalies. "
   ]
  },
  {
   "cell_type": "code",
   "execution_count": 79,
   "metadata": {},
   "outputs": [
    {
     "name": "stdout",
     "output_type": "stream",
     "text": [
      "74131.91999999997 38399.4\n"
     ]
    }
   ],
   "source": [
    "df2_cols = pd.DataFrame(df['FormalEducation'])\n",
    "df2_cols['AdjustedCompensation'] = pd.DataFrame(df['AdjustedCompensation'])\n",
    "df2_cols.dropna(inplace=True)\n",
    "df2_cols = df2_cols[(df2_cols['FormalEducation'] == 'Bachelor\\'s degree') | (df2_cols['FormalEducation'] == 'Doctoral degree')]\n",
    "\n",
    "df_b = df2_cols[df2_cols['FormalEducation'] == 'Bachelor\\'s degree']\n",
    "df_d = df2_cols[df2_cols['FormalEducation'] == 'Doctoral degree']\n",
    "b_arr = np.array(df_b['AdjustedCompensation'])\n",
    "d_arr = np.array(df_d['AdjustedCompensation'])\n",
    "\n",
    "#Your code here\n",
    "import statistics as s\n",
    "s1 = s.median(list(d_arr))\n",
    "s2 = s.median(list(b_arr))\n",
    "print(s1, s2)"
   ]
  },
  {
   "cell_type": "code",
   "execution_count": 80,
   "metadata": {},
   "outputs": [
    {
     "name": "stdout",
     "output_type": "stream",
     "text": [
      "967 1107\n"
     ]
    }
   ],
   "source": [
    "print(len(d_arr),len(b_arr))"
   ]
  },
  {
   "cell_type": "code",
   "execution_count": 84,
   "metadata": {},
   "outputs": [
    {
     "data": {
      "text/plain": [
       "0.15682381994720251"
      ]
     },
     "execution_count": 84,
     "metadata": {},
     "output_type": "execute_result"
    }
   ],
   "source": [
    "p_value_welch_ttest(b_arr, d_arr, two_sided=False)"
   ]
  },
  {
   "cell_type": "code",
   "execution_count": 63,
   "metadata": {},
   "outputs": [],
   "source": [
    "# Median Values: \n",
    "# s1:74131.92 \n",
    "# s2:38399.4\n",
    "# Sample sizes: \n",
    "# s1: 967 \n",
    "# s2: 1107\n",
    "# Welch's t-test p-value: 0.1568238199472023\n",
    "\n",
    "\n",
    "# Repeated Test with Ouliers Removed:\n",
    "# Sample sizes: \n",
    "# s1: 964 \n",
    "# s2: 1103\n",
    "# Welch's t-test p-value with outliers removed: 0.0"
   ]
  },
  {
   "cell_type": "code",
   "execution_count": 91,
   "metadata": {},
   "outputs": [
    {
     "name": "stdout",
     "output_type": "stream",
     "text": [
      "959 1096\n"
     ]
    }
   ],
   "source": [
    "df_d_no_outliers = df_d[(df_d['AdjustedCompensation'] > 0) & (df_d['AdjustedCompensation'] < 1000000)]\n",
    "df_b_no_outliers = df_b[(df_b['AdjustedCompensation'] > 0) & (df_b['AdjustedCompensation'] < 1000000)]\n",
    "\n",
    "print(len(df_d_no_outliers), len(df_b_no_outliers))"
   ]
  },
  {
   "cell_type": "code",
   "execution_count": 93,
   "metadata": {},
   "outputs": [
    {
     "data": {
      "text/plain": [
       "0.0"
      ]
     },
     "execution_count": 93,
     "metadata": {},
     "output_type": "execute_result"
    }
   ],
   "source": [
    "d_no_outliers = np.array(df_d_no_outliers['AdjustedCompensation'])\n",
    "b_no_outliers = np.array(df_b_no_outliers['AdjustedCompensation'])\n",
    "\n",
    "p_value_welch_ttest(b_no_outliers, d_no_outliers, two_sided=False)"
   ]
  },
  {
   "cell_type": "markdown",
   "metadata": {},
   "source": [
    "## Wages and Education III\n",
    "\n",
    "Remember the multiple comparisons problem; rather than continuing on like this, perform an ANOVA test between the various 'FormalEducation' categories and their relation to 'AdjustedCompensation'."
   ]
  },
  {
   "cell_type": "code",
   "execution_count": 97,
   "metadata": {},
   "outputs": [
    {
     "name": "stdout",
     "output_type": "stream",
     "text": [
      "F_onewayResult(statistic=140.8642997756584, pvalue=1.7960011262560295e-31)\n",
      "F_onewayResult(statistic=1.0064146083986878, pvalue=0.3158894727750025)\n",
      "F_onewayResult(statistic=1.1527704060999588, pvalue=0.2830956451575657)\n"
     ]
    }
   ],
   "source": [
    "import scipy.stats as st\n",
    "\n",
    "#Your code here\n",
    "print(st.f_oneway(list(d_no_outliers), list(b_no_outliers))) #doctorate compared to bachelor's degrees\n",
    "print(st.f_oneway(list(d_no_outliers), list(d_arr))) #doctorate compared to master's degrees\n",
    "print(st.f_oneway(list(b_no_outliers), list(d_arr))) #bachelor's degree compared to master's"
   ]
  },
  {
   "cell_type": "markdown",
   "metadata": {},
   "source": [
    "## Additional Resources\n",
    "\n",
    "Here's the original source where the data was taken from:  \n",
    "    [Kaggle Machine Learning & Data Science Survey 2017](https://www.kaggle.com/kaggle/kaggle-survey-2017)"
   ]
  },
  {
   "cell_type": "markdown",
   "metadata": {},
   "source": [
    "## Summary\n",
    "\n",
    "In this lab, you practiced conducting actual hypothesis tests on actual data. From this, you saw how dependent results can be on the initial problem formulation, including preprocessing!"
   ]
  }
 ],
 "metadata": {
  "kernelspec": {
   "display_name": "Python 3",
   "language": "python",
   "name": "python3"
  },
  "language_info": {
   "codemirror_mode": {
    "name": "ipython",
    "version": 3
   },
   "file_extension": ".py",
   "mimetype": "text/x-python",
   "name": "python",
   "nbconvert_exporter": "python",
   "pygments_lexer": "ipython3",
   "version": "3.6.9"
  },
  "toc": {
   "base_numbering": 1,
   "nav_menu": {},
   "number_sections": true,
   "sideBar": true,
   "skip_h1_title": false,
   "title_cell": "Table of Contents",
   "title_sidebar": "Contents",
   "toc_cell": false,
   "toc_position": {},
   "toc_section_display": true,
   "toc_window_display": false
  }
 },
 "nbformat": 4,
 "nbformat_minor": 4
}
